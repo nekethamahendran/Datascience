{
  "nbformat": 4,
  "nbformat_minor": 0,
  "metadata": {
    "colab": {
      "provenance": []
    },
    "kernelspec": {
      "name": "python3",
      "display_name": "Python 3"
    },
    "language_info": {
      "name": "python"
    }
  },
  "cells": [
    {
      "cell_type": "markdown",
      "source": [
        "#Vowels And Consonants"
      ],
      "metadata": {
        "id": "nm5ueJBxF40m"
      }
    },
    {
      "cell_type": "code",
      "execution_count": 3,
      "metadata": {
        "id": "4_zHfO_otx8Z",
        "colab": {
          "base_uri": "https://localhost:8080/"
        },
        "outputId": "af28ac38-20ef-4013-8636-74ed4fe7609a"
      },
      "outputs": [
        {
          "output_type": "stream",
          "name": "stdout",
          "text": [
            "Enter a character:N\n",
            "N is a Consonant\n"
          ]
        }
      ],
      "source": [
        "char=input(\"Enter a character:\")\n",
        "if (char=='A' or char=='a' or char=='E' or char=='e' or char=='I' or\n",
        "    char=='i' or char=='O' or char=='o' or char=='U' or char=='u'):\n",
        "  print(char,\"is a Vowel\")\n",
        "else:\n",
        "  print(char,\"is a Consonant\")"
      ]
    },
    {
      "cell_type": "markdown",
      "source": [
        "# Multiplication Table"
      ],
      "metadata": {
        "id": "UlIiMynsGw1p"
      }
    },
    {
      "cell_type": "code",
      "source": [
        "multi=int(input(\"Enter the Number:\"))\n",
        "print(\"The Multiplication Table From 1-10\",\"of\",multi,\"is\")\n",
        "for i in range(1,11):\n",
        "  print(multi,'X',i,'=',multi*i)"
      ],
      "metadata": {
        "colab": {
          "base_uri": "https://localhost:8080/"
        },
        "id": "tz-kmzqbG1Dy",
        "outputId": "0080aa33-cae7-4e93-8366-404f6eac40b1"
      },
      "execution_count": 4,
      "outputs": [
        {
          "output_type": "stream",
          "name": "stdout",
          "text": [
            "Enter the Number:8\n",
            "The Multiplication Tble From 1-10 of 8 is\n",
            "8 X 1 = 8\n",
            "8 X 2 = 16\n",
            "8 X 3 = 24\n",
            "8 X 4 = 32\n",
            "8 X 5 = 40\n",
            "8 X 6 = 48\n",
            "8 X 7 = 56\n",
            "8 X 8 = 64\n",
            "8 X 9 = 72\n",
            "8 X 10 = 80\n"
          ]
        }
      ]
    }
  ]
}