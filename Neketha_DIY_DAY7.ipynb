{
  "nbformat": 4,
  "nbformat_minor": 0,
  "metadata": {
    "colab": {
      "provenance": [],
      "toc_visible": true
    },
    "kernelspec": {
      "name": "python3",
      "display_name": "Python 3"
    },
    "language_info": {
      "name": "python"
    }
  },
  "cells": [
    {
      "cell_type": "markdown",
      "source": [
        "# Array Func"
      ],
      "metadata": {
        "id": "tk8ZMLHbkyqC"
      }
    },
    {
      "cell_type": "code",
      "execution_count": 2,
      "metadata": {
        "colab": {
          "base_uri": "https://localhost:8080/"
        },
        "id": "DqFxLB2UhzZ8",
        "outputId": "b1c1baf0-b7ec-4720-be0b-7428094031dc"
      },
      "outputs": [
        {
          "output_type": "stream",
          "name": "stdout",
          "text": [
            "What number of speed you want to enter?5\n",
            "Enter the speeds in km/hr:45\n",
            "Enter the speeds in km/hr:85\n",
            "Enter the speeds in km/hr:90\n",
            "Enter the speeds in km/hr:70\n",
            "Enter the speeds in km/hr:60\n",
            "The Average Speed is: 70.0 Km/hr\n"
          ]
        }
      ],
      "source": [
        "import numpy as np\n",
        "arr=[]\n",
        "s=int(input(\"What number of speed you want to enter?\"))\n",
        "for i in range(s):\n",
        "  arr.append(float(input(\"Enter the speeds in km/hr:\")))\n",
        "arr=np.array(arr)\n",
        "mean=sum(arr)//len(arr)\n",
        "print(\"The Average Speed is:\",mean,9\"Km/hr\")"
      ]
    },
    {
      "cell_type": "markdown",
      "source": [
        "# Inexing/Slicing"
      ],
      "metadata": {
        "id": "OkbZnjoAlGRM"
      }
    },
    {
      "cell_type": "code",
      "source": [
        "import numpy as np\n",
        "n=np.arange(20).reshape((5,4))\n",
        "print(\"The Array is:\",n)\n",
        "print(\"The First two rows are:\",n[[0,1],:])\n",
        "print(\"The last two columns are:\",n[[-2,-1]])\n"
      ],
      "metadata": {
        "colab": {
          "base_uri": "https://localhost:8080/"
        },
        "id": "sAs3BOESjtnL",
        "outputId": "cc28d631-8cb9-4494-9afd-8f8fdafbfa83"
      },
      "execution_count": 3,
      "outputs": [
        {
          "output_type": "stream",
          "name": "stdout",
          "text": [
            "The Array is: [[ 0  1  2  3]\n",
            " [ 4  5  6  7]\n",
            " [ 8  9 10 11]\n",
            " [12 13 14 15]\n",
            " [16 17 18 19]]\n",
            "The First two rows are: [[0 1 2 3]\n",
            " [4 5 6 7]]\n",
            "The last two columns are: [[12 13 14 15]\n",
            " [16 17 18 19]]\n"
          ]
        }
      ]
    }
  ]
}