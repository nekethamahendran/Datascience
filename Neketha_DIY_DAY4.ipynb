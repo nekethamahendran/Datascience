{
  "nbformat": 4,
  "nbformat_minor": 0,
  "metadata": {
    "colab": {
      "provenance": [],
      "toc_visible": true,
      "authorship_tag": "ABX9TyN8FA4tCcuRlCgsXqbzhYWV",
      "include_colab_link": true
    },
    "kernelspec": {
      "name": "python3",
      "display_name": "Python 3"
    },
    "language_info": {
      "name": "python"
    }
  },
  "cells": [
    {
      "cell_type": "markdown",
      "metadata": {
        "id": "view-in-github",
        "colab_type": "text"
      },
      "source": [
        "<a href=\"https://colab.research.google.com/github/nekethamahendran/Datascience/blob/main/Neketha_DIY_DAY4.ipynb\" target=\"_parent\"><img src=\"https://colab.research.google.com/assets/colab-badge.svg\" alt=\"Open In Colab\"/></a>"
      ]
    },
    {
      "cell_type": "markdown",
      "source": [
        "# Quotient And Remainder"
      ],
      "metadata": {
        "id": "sotKxz_OhpqJ"
      }
    },
    {
      "cell_type": "code",
      "execution_count": null,
      "metadata": {
        "colab": {
          "base_uri": "https://localhost:8080/"
        },
        "id": "OImIUTtQdyeT",
        "outputId": "46840a6d-7629-4fe5-f3ff-0d27caa94b5b"
      },
      "outputs": [
        {
          "output_type": "stream",
          "name": "stdout",
          "text": [
            "Enter the dividend: 560\n",
            "Enter the divisor: 10\n",
            "Quotient: 56\n",
            "Remainder 0\n"
          ]
        }
      ],
      "source": [
        "def find(dividend,divisor):\n",
        "  quotient=dividend//divisor\n",
        "  print(\"Quotient:\",quotient)\n",
        "  remainder=dividend%divisor\n",
        "  print(\"Remainder\",remainder)\n",
        "dividend=int(input(\"Enter the dividend: \"))\n",
        "divisor=int(input(\"Enter the divisor: \"))\n",
        "find(dividend,divisor)"
      ]
    },
    {
      "cell_type": "markdown",
      "source": [
        "# Calculating the Simple interest"
      ],
      "metadata": {
        "id": "HMWRNxwzhz9Q"
      }
    },
    {
      "cell_type": "code",
      "source": [
        "principle=int(input(\"Enter the Principle Amount:\"))\n",
        "time=int(input(\"Enter the Time(number of yrs):\"))\n",
        "rate=float(input(\"Enter the interest rate:\"))\n",
        "simple_interest=lambda x,y,z:(x*y*z)//100\n",
        "print(\"The Simple Interest is:\",simple_interest(principle,time,rate))"
      ],
      "metadata": {
        "colab": {
          "base_uri": "https://localhost:8080/"
        },
        "id": "S9rRE0S4iEXn",
        "outputId": "280c6683-e2ff-46db-f0ba-a0eafcf8cadd"
      },
      "execution_count": null,
      "outputs": [
        {
          "output_type": "stream",
          "name": "stdout",
          "text": [
            "Enter the Principle Amount:1000\n",
            "Enter the Time(number of yrs):4\n",
            "Enter the interest rate:5.5\n",
            "The Simple Interest is: 220.0\n"
          ]
        }
      ]
    },
    {
      "cell_type": "code",
      "source": [],
      "metadata": {
        "id": "obTbLwAmjOHO"
      },
      "execution_count": null,
      "outputs": []
    }
  ]
}