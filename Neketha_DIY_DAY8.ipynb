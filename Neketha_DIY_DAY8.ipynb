{
  "nbformat": 4,
  "nbformat_minor": 0,
  "metadata": {
    "colab": {
      "provenance": [],
      "toc_visible": true
    },
    "kernelspec": {
      "name": "python3",
      "display_name": "Python 3"
    },
    "language_info": {
      "name": "python"
    }
  },
  "cells": [
    {
      "cell_type": "markdown",
      "source": [
        "#4*5 Dimensional array using numpy"
      ],
      "metadata": {
        "id": "dejk5bufod3M"
      }
    },
    {
      "cell_type": "code",
      "execution_count": 1,
      "metadata": {
        "colab": {
          "base_uri": "https://localhost:8080/"
        },
        "id": "PuFsGoFGobL3",
        "outputId": "a63f3311-f03f-49e7-c578-8d461d1de5d5"
      },
      "outputs": [
        {
          "output_type": "stream",
          "name": "stdout",
          "text": [
            "Original Array:\n",
            "[ 0  1  2  3  4  5  6  7  8  9 10 11 12 13 14 15 16 17 18 19]\n",
            "Reshaped Array:\n",
            "[[ 0  1  2  3]\n",
            " [ 4  5  6  7]\n",
            " [ 8  9 10 11]\n",
            " [12 13 14 15]\n",
            " [16 17 18 19]]\n",
            "Transpose of Array:\n",
            "[ 0  1  2  3  4  5  6  7  8  9 10 11 12 13 14 15 16 17 18 19]\n"
          ]
        }
      ],
      "source": [
        "import numpy as np\n",
        "s=np.arange(20)\n",
        "print(\"Original Array:\",)\n",
        "print(s)\n",
        "q=s.reshape((5,4))\n",
        "print(\"Reshaped Array:\")\n",
        "print(q)\n",
        "r=s.transpose()\n",
        "print(\"Transpose of Array:\")\n",
        "print(r)"
      ]
    },
    {
      "cell_type": "markdown",
      "source": [
        "# Applying array Functions"
      ],
      "metadata": {
        "id": "7Bx114yLrq4r"
      }
    },
    {
      "cell_type": "code",
      "source": [
        "import numpy as np\n",
        "m=np.arange(1,5).reshape(2,2)\n",
        "n=np.arange(6,10).reshape(2,2)\n",
        "print(\"The First Array is:\")\n",
        "print(m)\n",
        "print(\"The Second Array is:\")\n",
        "print(n)\n",
        "print(\"Applying hstack() Func:\")\n",
        "array_1=np.hstack((m,n))\n",
        "print(array_1)\n",
        "print(\"Applying vstack() Func:\")\n",
        "array_2=np.vstack((m,n))\n",
        "print(array_2)\n",
        "print(\"Applying concatenate() Func:\")\n",
        "array_3=np.concatenate((m,n))\n",
        "print(array_3)\n",
        "print(\"Applying split() Func:\")\n",
        "array_4=np.array_split(array_1,2)\n",
        "print(array_4)"
      ],
      "metadata": {
        "colab": {
          "base_uri": "https://localhost:8080/"
        },
        "id": "nSgySTO3rz5z",
        "outputId": "519b8ab0-045e-48d6-b7a3-2dc8b58f47b3"
      },
      "execution_count": 10,
      "outputs": [
        {
          "output_type": "stream",
          "name": "stdout",
          "text": [
            "The First Array is:\n",
            "[[1 2]\n",
            " [3 4]]\n",
            "The Second Array is:\n",
            "[[6 7]\n",
            " [8 9]]\n",
            "Applying hstack() Func:\n",
            "[[1 2 6 7]\n",
            " [3 4 8 9]]\n",
            "Applying vstack() Func:\n",
            "[[1 2]\n",
            " [3 4]\n",
            " [6 7]\n",
            " [8 9]]\n",
            "Applying concatenate() Func:\n",
            "[[1 2]\n",
            " [3 4]\n",
            " [6 7]\n",
            " [8 9]]\n",
            "Applying split() Func:\n",
            "[array([[1, 2, 6, 7]]), array([[3, 4, 8, 9]])]\n"
          ]
        }
      ]
    }
  ]
}