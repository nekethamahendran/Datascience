{
  "nbformat": 4,
  "nbformat_minor": 0,
  "metadata": {
    "colab": {
      "provenance": [],
      "toc_visible": true
    },
    "kernelspec": {
      "name": "python3",
      "display_name": "Python 3"
    },
    "language_info": {
      "name": "python"
    }
  },
  "cells": [
    {
      "cell_type": "code",
      "source": [
        "fileobj=open(\"Poem.txt\",\"r\")\n",
        "poem=fileobj.read()\n",
        "fileobj.close()"
      ],
      "metadata": {
        "id": "gK3pplWW72Rw"
      },
      "execution_count": 2,
      "outputs": []
    },
    {
      "cell_type": "code",
      "source": [
        "print(poem)"
      ],
      "metadata": {
        "colab": {
          "base_uri": "https://localhost:8080/"
        },
        "id": "XDc_7cbN8PDt",
        "outputId": "dcd898f1-5996-44b1-ccf4-69ca87343e68"
      },
      "execution_count": 3,
      "outputs": [
        {
          "output_type": "stream",
          "name": "stdout",
          "text": [
            "Jack and Jill went up the hill\n",
            "To fetch a pail of water.\n",
            "Jack fell down and broke his crown,\n",
            "And Jill came tumbling after.\n",
            "Then up got Jack and said to Jill,\n",
            "As in his arms he took her,\n",
            "“Brush off that dirt for you’re not hurt,\n",
            "Let’s fetch that pail of water.”\n",
            "So Jack and Jill went up the hill\n",
            "To fetch the pail of water,\n",
            "And took it home to Mother dear,\n",
            "Who thanked her son and daughter.\n",
            "\n",
            "\n"
          ]
        }
      ]
    },
    {
      "cell_type": "code",
      "execution_count": 1,
      "metadata": {
        "colab": {
          "base_uri": "https://localhost:8080/"
        },
        "id": "oVY7beXI4O24",
        "outputId": "3b71450b-d383-41ba-b1fc-674539fd2f7d"
      },
      "outputs": [
        {
          "output_type": "stream",
          "name": "stdout",
          "text": [
            "Jack and Jill went up the hill\n",
            " To fetch a pail of water.\n",
            " Jack fell down and broke his crown,\n",
            " And Jill came tumbling after.\n",
            " Then up got Jack and said to Jill,\n",
            " As in his arms he took her,\n",
            " “Brush off that dirt for you’re not hurt,\n",
            " Let’s fetch that pail of water.”\n",
            " So Jack and Jill went up the hill\n",
            " To fetch the pail of water,\n",
            " And took it home to Mother dear,\n",
            " Who thanked her son and daughter.\n",
            " \n",
            " "
          ]
        }
      ],
      "source": [
        "file=open(\"/content/Poem.txt\",\"r\")\n",
        "for line in file:\n",
        "  print(line,end=\" \")\n",
        "file.close()"
      ]
    },
    {
      "cell_type": "markdown",
      "source": [
        "# Modifying the file using Python"
      ],
      "metadata": {
        "id": "kpna7IlP8tUe"
      }
    },
    {
      "cell_type": "code",
      "source": [
        "file=open(\"/content/Poem.txt\",\"r\")\n",
        "data=file.read()\n",
        "for letter in data:\n",
        "  if letter=='J':\n",
        "    print(\"K\",end=\"\")\n",
        "  else:\n",
        "    print(letter,end=\"\")\n",
        "  file.close()"
      ],
      "metadata": {
        "colab": {
          "base_uri": "https://localhost:8080/"
        },
        "id": "c9HaWMYI9XG2",
        "outputId": "0c9440c9-6ae7-490b-e04b-23b37ef7801a"
      },
      "execution_count": 4,
      "outputs": [
        {
          "output_type": "stream",
          "name": "stdout",
          "text": [
            "Kack and Kill went up the hill\n",
            "To fetch a pail of water.\n",
            "Kack fell down and broke his crown,\n",
            "And Kill came tumbling after.\n",
            "Then up got Kack and said to Kill,\n",
            "As in his arms he took her,\n",
            "“Brush off that dirt for you’re not hurt,\n",
            "Let’s fetch that pail of water.”\n",
            "So Kack and Kill went up the hill\n",
            "To fetch the pail of water,\n",
            "And took it home to Mother dear,\n",
            "Who thanked her son and daughter.\n",
            "\n"
          ]
        }
      ]
    },
    {
      "cell_type": "code",
      "source": [
        "fileobj=open(\"Poem.txt\",\"r\")\n",
        "poem=fileobj.readlines()\n",
        "fileobj.close()\n",
        "print(poem)"
      ],
      "metadata": {
        "colab": {
          "base_uri": "https://localhost:8080/"
        },
        "id": "9WwcaAkB-5jq",
        "outputId": "5f9d49b5-9110-48c2-e87a-4fdde3a4031e"
      },
      "execution_count": 7,
      "outputs": [
        {
          "output_type": "stream",
          "name": "stdout",
          "text": [
            "['Jack and Jill went up the hill\\n', 'To fetch a pail of water.\\n', 'Jack fell down and broke his crown,\\n', 'And Jill came tumbling after.\\n', 'Then up got Jack and said to Jill,\\n', 'As in his arms he took her,\\n', '“Brush off that dirt for you’re not hurt,\\n', 'Let’s fetch that pail of water.”\\n', 'So Jack and Jill went up the hill\\n', 'To fetch the pail of water,\\n', 'And took it home to Mother dear,\\n', 'Who thanked her son and daughter.\\n', '\\n']\n"
          ]
        }
      ]
    },
    {
      "cell_type": "code",
      "source": [
        "fileobj=open(\"Poem.txt\",\"r\")\n",
        "poem=fileobj.readline()\n",
        "fileobj.close()\n",
        "print(poem)"
      ],
      "metadata": {
        "colab": {
          "base_uri": "https://localhost:8080/"
        },
        "id": "qdGzL8AA_vBr",
        "outputId": "67e0e8d4-1777-4493-d9f0-ac978b0c29d5"
      },
      "execution_count": 8,
      "outputs": [
        {
          "output_type": "stream",
          "name": "stdout",
          "text": [
            "Jack and Jill went up the hill\n",
            "\n"
          ]
        }
      ]
    },
    {
      "cell_type": "code",
      "source": [
        "fileobj=open(\"Poem.txt\",\"r\")\n",
        "poem=fileobj.readline()\n",
        "print(poem)"
      ],
      "metadata": {
        "colab": {
          "base_uri": "https://localhost:8080/"
        },
        "id": "KVV_xCd1AAaO",
        "outputId": "69692161-c087-40cf-9638-405634722fe9"
      },
      "execution_count": 10,
      "outputs": [
        {
          "output_type": "stream",
          "name": "stdout",
          "text": [
            "Jack and Jill went up the hill\n",
            "\n"
          ]
        }
      ]
    },
    {
      "cell_type": "code",
      "source": [
        "fileobj.readline()"
      ],
      "metadata": {
        "colab": {
          "base_uri": "https://localhost:8080/",
          "height": 36
        },
        "id": "Vn1LaOKWAQe6",
        "outputId": "d05daef7-1a81-458d-c41e-14f7169a6a79"
      },
      "execution_count": 11,
      "outputs": [
        {
          "output_type": "execute_result",
          "data": {
            "text/plain": [
              "'To fetch a pail of water.\\n'"
            ],
            "application/vnd.google.colaboratory.intrinsic+json": {
              "type": "string"
            }
          },
          "metadata": {},
          "execution_count": 11
        }
      ]
    }
  ]
}