{
  "nbformat": 4,
  "nbformat_minor": 0,
  "metadata": {
    "colab": {
      "provenance": [],
      "toc_visible": true,
      "authorship_tag": "ABX9TyNYyYQotReygIX7oaPchZib",
      "include_colab_link": true
    },
    "kernelspec": {
      "name": "python3",
      "display_name": "Python 3"
    },
    "language_info": {
      "name": "python"
    }
  },
  "cells": [
    {
      "cell_type": "markdown",
      "metadata": {
        "id": "view-in-github",
        "colab_type": "text"
      },
      "source": [
        "<a href=\"https://colab.research.google.com/github/nekethamahendran/Datascience/blob/main/Neketha_DAY_DIY11.ipynb\" target=\"_parent\"><img src=\"https://colab.research.google.com/assets/colab-badge.svg\" alt=\"Open In Colab\"/></a>"
      ]
    },
    {
      "cell_type": "markdown",
      "source": [
        "# Filtering the database on Condition \"SepalLength>=6cm\""
      ],
      "metadata": {
        "id": "DGdHqc2lOkpR"
      }
    },
    {
      "cell_type": "code",
      "execution_count": null,
      "metadata": {
        "colab": {
          "base_uri": "https://localhost:8080/"
        },
        "id": "xS7_k1MT6ugh",
        "outputId": "4ab9bae0-862b-4b06-f5c0-26fb7276696d"
      },
      "outputs": [
        {
          "output_type": "stream",
          "name": "stdout",
          "text": [
            "Original DataFrame is:\n",
            "      Id  SepalLengthCm  SepalWidthCm  PetalLengthCm  PetalWidthCm  \\\n",
            "0      1            5.1           3.5            1.4           0.2   \n",
            "1      2            4.9           3.0            1.4           0.2   \n",
            "2      3            4.7           3.2            1.3           0.2   \n",
            "3      4            4.6           3.1            1.5           0.2   \n",
            "4      5            5.0           3.6            1.4           0.2   \n",
            "..   ...            ...           ...            ...           ...   \n",
            "145  146            6.7           3.0            5.2           2.3   \n",
            "146  147            6.3           2.5            5.0           1.9   \n",
            "147  148            6.5           3.0            5.2           2.0   \n",
            "148  149            6.2           3.4            5.4           2.3   \n",
            "149  150            5.9           3.0            5.1           1.8   \n",
            "\n",
            "            Species  \n",
            "0       Iris-setosa  \n",
            "1       Iris-setosa  \n",
            "2       Iris-setosa  \n",
            "3       Iris-setosa  \n",
            "4       Iris-setosa  \n",
            "..              ...  \n",
            "145  Iris-virginica  \n",
            "146  Iris-virginica  \n",
            "147  Iris-virginica  \n",
            "148  Iris-virginica  \n",
            "149  Iris-virginica  \n",
            "\n",
            "[150 rows x 6 columns]\n"
          ]
        }
      ],
      "source": [
        "import pandas as pd\n",
        "df=pd.read_csv(\"/content/Iris.csv\")\n",
        "print(\"Original DataFrame is:\")\n",
        "print(df)"
      ]
    },
    {
      "cell_type": "code",
      "source": [],
      "metadata": {
        "id": "0AVqLGnKNRs3"
      },
      "execution_count": null,
      "outputs": []
    },
    {
      "cell_type": "code",
      "source": [
        "df1=df.loc[df['SepalLengthCm']>=6]\n",
        "print(\"Flowers  with more than 6cm Sepal Length are:\")\n",
        "print(df1)"
      ],
      "metadata": {
        "colab": {
          "base_uri": "https://localhost:8080/"
        },
        "id": "rHjWUZWU9KiJ",
        "outputId": "efd1d8e6-6efe-49b2-adae-b028c95311a1"
      },
      "execution_count": null,
      "outputs": [
        {
          "output_type": "stream",
          "name": "stdout",
          "text": [
            "Flowers  with more than 6cm Sepal Length are:\n",
            "      Id  SepalLengthCm  SepalWidthCm  PetalLengthCm  PetalWidthCm  \\\n",
            "50    51            7.0           3.2            4.7           1.4   \n",
            "51    52            6.4           3.2            4.5           1.5   \n",
            "52    53            6.9           3.1            4.9           1.5   \n",
            "54    55            6.5           2.8            4.6           1.5   \n",
            "56    57            6.3           3.3            4.7           1.6   \n",
            "..   ...            ...           ...            ...           ...   \n",
            "144  145            6.7           3.3            5.7           2.5   \n",
            "145  146            6.7           3.0            5.2           2.3   \n",
            "146  147            6.3           2.5            5.0           1.9   \n",
            "147  148            6.5           3.0            5.2           2.0   \n",
            "148  149            6.2           3.4            5.4           2.3   \n",
            "\n",
            "             Species  \n",
            "50   Iris-versicolor  \n",
            "51   Iris-versicolor  \n",
            "52   Iris-versicolor  \n",
            "54   Iris-versicolor  \n",
            "56   Iris-versicolor  \n",
            "..               ...  \n",
            "144   Iris-virginica  \n",
            "145   Iris-virginica  \n",
            "146   Iris-virginica  \n",
            "147   Iris-virginica  \n",
            "148   Iris-virginica  \n",
            "\n",
            "[67 rows x 6 columns]\n"
          ]
        }
      ]
    },
    {
      "cell_type": "markdown",
      "source": [
        "# Saving a  datframe as a CSV file"
      ],
      "metadata": {
        "id": "IqgSyH9RO5jU"
      }
    },
    {
      "cell_type": "code",
      "source": [
        "df1.to_csv('iris2.csv')"
      ],
      "metadata": {
        "id": "l7tbQ8rPNRzb"
      },
      "execution_count": null,
      "outputs": []
    },
    {
      "cell_type": "code",
      "source": [
        "df1.to_csv('iris2.csv',index=False)"
      ],
      "metadata": {
        "id": "LDCMt7GPNucW"
      },
      "execution_count": null,
      "outputs": []
    }
  ]
}