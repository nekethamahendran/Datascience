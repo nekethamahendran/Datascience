{
  "cells": [
    {
      "cell_type": "code",
      "execution_count": 3,
      "metadata": {
        "colab": {
          "base_uri": "https://localhost:8080/"
        },
        "id": "UHUywyLVZ0ZP",
        "outputId": "2df7f455-b2fe-482b-e905-64ee77f9d05a"
      },
      "outputs": [
        {
          "output_type": "stream",
          "name": "stdout",
          "text": [
            "Enter the marks of all six subjects,one by one-\n",
            "Enter the marks out of 100 obtained in subject-1:45\n",
            "Enter the marks out of 100 obtained in subject-2:55\n",
            "Enter the marks out of 100 obtained in subject-3:90\n",
            "Enter the marks out of 100 obtained in subject-4:50\n",
            "Enter the marks out of 100 obtained in subject-5:60\n",
            "Enter the marks out of 100 obtained in subject-6:80\n",
            "Total marks obtained: 380.0\n",
            "Average marks obtained: 63.333333333333336\n",
            "Percantage obtained: 63.33333333333333\n"
          ]
        }
      ],
      "source": [
        "9print(\"Enter the marks of all six subjects,one by one-\")\n",
        "sub_1=float(input(\"Enter the marks out of 100 obtained in subject-1:\"))\n",
        "sub_2=float(input(\"Enter the marks out of 100 obtained in subject-2:\"))\n",
        "sub_3=float(input(\"Enter the marks out of 100 obtained in subject-3:\"))\n",
        "sub_4=float(input(\"Enter the marks out of 100 obtained in subject-4:\"))\n",
        "sub_5=float(input(\"Enter the marks out of 100 obtained in subject-5:\"))\n",
        "sub_6=float(input(\"Enter the marks out of 100 obtained in subject-6:\"))\n",
        "total,average,percentage=None,None,None\n",
        "total=sub_1+sub_2+sub_3+sub_4+sub_5+sub_6\n",
        "average=total/6\n",
        "percentage=(total/600)*100\n",
        "print(\"Total marks obtained:\",total)\n",
        "print(\"Average marks obtained:\",average)\n",
        "print(\"Percantage obtained:\",percentage)"
      ]
    },
    {
      "cell_type": "markdown",
      "metadata": {
        "id": "fG93izE3dBNw"
      },
      "source": [
        "#The Score Card"
      ]
    },
    {
      "cell_type": "code",
      "execution_count": 4,
      "metadata": {
        "id": "4CLYm7oqdRIt",
        "colab": {
          "base_uri": "https://localhost:8080/"
        },
        "outputId": "26508d0d-743c-4445-8b1b-42ac57a49749"
      },
      "outputs": [
        {
          "output_type": "stream",
          "name": "stdout",
          "text": [
            "[[70, 'Jay'], [65, 'Jibran'], [50, 'Ansh'], [40, 'Sumit'], [30, 'Amit'], [20, 'Lucy'], [10, 'john']]\n",
            "Student with highest marks is: Jay\n",
            "And the student with second highest marks: Jibran\n"
          ]
        }
      ],
      "source": [
        "score=[[10,'john'],[20,'Lucy'],[30,'Amit'],[40,'Sumit'],[50,'Ansh'],[65,'Jibran'],[70,'Jay']]\n",
        "score.sort()\n",
        "score.reverse()\n",
        "max_score=(score[0][1])\n",
        "sec_max=(score[1][1])\n",
        "print(score)\n",
        "print(\"Student with highest marks is:\",max_score)\n",
        "print(\"And the student with second highest marks:\",sec_max)"
      ]
    }
  ],
  "metadata": {
    "colab": {
      "provenance": []
    },
    "kernelspec": {
      "display_name": "Python 3",
      "name": "python3"
    },
    "language_info": {
      "name": "python"
    }
  },
  "nbformat": 4,
  "nbformat_minor": 0
}