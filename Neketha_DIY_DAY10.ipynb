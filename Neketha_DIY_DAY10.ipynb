{
  "nbformat": 4,
  "nbformat_minor": 0,
  "metadata": {
    "colab": {
      "provenance": [],
      "toc_visible": true
    },
    "kernelspec": {
      "name": "python3",
      "display_name": "Python 3"
    },
    "language_info": {
      "name": "python"
    }
  },
  "cells": [
    {
      "cell_type": "markdown",
      "source": [
        "# Creating Pandas Series"
      ],
      "metadata": {
        "id": "_PadVBbdWqeO"
      }
    },
    {
      "cell_type": "code",
      "execution_count": 10,
      "metadata": {
        "id": "Zr8YWOf3SLPc"
      },
      "outputs": [],
      "source": [
        "import pandas as pd"
      ]
    },
    {
      "cell_type": "code",
      "source": [
        "pd.__version__"
      ],
      "metadata": {
        "colab": {
          "base_uri": "https://localhost:8080/",
          "height": 36
        },
        "id": "XAI7hZ9oSO8M",
        "outputId": "645afc98-a3d0-41c6-f86d-59ce06f583ce"
      },
      "execution_count": 9,
      "outputs": [
        {
          "output_type": "execute_result",
          "data": {
            "text/plain": [
              "'1.5.3'"
            ],
            "application/vnd.google.colaboratory.intrinsic+json": {
              "type": "string"
            }
          },
          "metadata": {},
          "execution_count": 9
        }
      ]
    },
    {
      "cell_type": "code",
      "source": [
        "import pandas as pd\n",
        "values=[\"India\",\"Canada\",\"Australia\",\"Japan\",\n",
        "        \"Germany\",\"France\"]\n",
        "code=[\"IND\",\"CAN\",\"AUS\",\"JAP\",\"GER\",\"FRA\"]\n",
        "ser2=pd.Series(values,code)\n",
        "print(\"The Series is:\",ser1)\n",
        "print(\"Length of the Series is:\",len(ser2))\n",
        "print(\"Shape of the Series is:\",ser2.shape)\n",
        "print(\"Size of the Series is\",ser2.size)"
      ],
      "metadata": {
        "colab": {
          "base_uri": "https://localhost:8080/"
        },
        "id": "YIvmHAduS0xo",
        "outputId": "465e8f7a-97aa-4796-cb8b-4bf04348ca21"
      },
      "execution_count": 12,
      "outputs": [
        {
          "output_type": "stream",
          "name": "stdout",
          "text": [
            "The Series is: 0    10\n",
            "1    20\n",
            "2    30\n",
            "3    40\n",
            "4    50\n",
            "dtype: int64\n",
            "Length of the Series is: 6\n",
            "Shape of the Series is: (6,)\n",
            "Size of the Series is 6\n"
          ]
        }
      ]
    },
    {
      "cell_type": "markdown",
      "source": [
        "# Creating Pandas DataFrame"
      ],
      "metadata": {
        "id": "X8biIVqpWdUj"
      }
    },
    {
      "cell_type": "code",
      "source": [
        "import pandas as pd\n",
        "df=pd.DataFrame(columns=[\"Name\",\"Age\"])\n",
        "parts=int(input(\"Enter the number of student records you want to store:\"))\n",
        "for _ in range(parts):\n",
        "  name=input(\"Enter the name of the student:\")\n",
        "  age=input(\"Enter the age of the students in years:\")\n",
        "  df1= pd.DataFrame(data=[[name,age23]],columns=[\"Name\",\"Age\"])\n",
        "  df=pd.concat([df,df1],axis=0)\n",
        "df.index=range(len(df.index))\n",
        "print(\"The DataFrame is-_________________\")\n",
        "print(df)"
      ],
      "metadata": {
        "colab": {
          "base_uri": "https://localhost:8080/"
        },
        "id": "RWNPo1tnUnIa",
        "outputId": "ae48b740-ee39-45ce-c8e2-3b831f432bc2"
      },
      "execution_count": 18,
      "outputs": [
        {
          "output_type": "stream",
          "name": "stdout",
          "text": [
            "Enter the number of student records you want to store:3\n",
            "Enter the name of the student:raj\n",
            "Enter the age of the students in years:23\n",
            "Enter the name of the student:keerthi\n",
            "Enter the age of the students in years:22\n",
            "Enter the name of the student:yash\n",
            "Enter the age of the students in years:26\n",
            "The DataFrame is-_________________\n",
            "      Name Age\n",
            "0      raj  23\n",
            "1  keerthi  22\n",
            "2     yash  26\n"
          ]
        }
      ]
    }
  ]
}